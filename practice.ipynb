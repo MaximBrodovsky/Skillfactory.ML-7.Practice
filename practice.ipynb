{
 "cells": [
  {
   "cell_type": "code",
   "execution_count": 10,
   "metadata": {},
   "outputs": [],
   "source": [
    "#импорт библиотек\n",
    "import numpy as np #для матричных вычислений\n",
    "import pandas as pd #для анализа и предобработки данных\n",
    "\n",
    "from sklearn import linear_model #линейные моделиё\n",
    "from sklearn import tree #деревья решений\n",
    "from sklearn import ensemble #ансамбли\n",
    "from sklearn import metrics #метрики\n",
    "from sklearn.model_selection import train_test_split #сплитование выборки\n",
    "\n",
    "from sklearn.model_selection import GridSearchCV\n",
    "from sklearn.model_selection import RandomizedSearchCV\n",
    "from sklearn.model_selection import cross_val_score\n",
    "import optuna\n",
    "from hyperopt import hp, fmin, tpe, Trials"
   ]
  },
  {
   "attachments": {},
   "cell_type": "markdown",
   "metadata": {},
   "source": [
    "# Инициализация данных"
   ]
  },
  {
   "cell_type": "code",
   "execution_count": 11,
   "metadata": {},
   "outputs": [
    {
     "data": {
      "text/html": [
       "<div>\n",
       "<style scoped>\n",
       "    .dataframe tbody tr th:only-of-type {\n",
       "        vertical-align: middle;\n",
       "    }\n",
       "\n",
       "    .dataframe tbody tr th {\n",
       "        vertical-align: top;\n",
       "    }\n",
       "\n",
       "    .dataframe thead th {\n",
       "        text-align: right;\n",
       "    }\n",
       "</style>\n",
       "<table border=\"1\" class=\"dataframe\">\n",
       "  <thead>\n",
       "    <tr style=\"text-align: right;\">\n",
       "      <th></th>\n",
       "      <th>Activity</th>\n",
       "      <th>D1</th>\n",
       "      <th>D2</th>\n",
       "      <th>D3</th>\n",
       "      <th>D4</th>\n",
       "      <th>D5</th>\n",
       "      <th>D6</th>\n",
       "      <th>D7</th>\n",
       "      <th>D8</th>\n",
       "      <th>D9</th>\n",
       "      <th>...</th>\n",
       "      <th>D1767</th>\n",
       "      <th>D1768</th>\n",
       "      <th>D1769</th>\n",
       "      <th>D1770</th>\n",
       "      <th>D1771</th>\n",
       "      <th>D1772</th>\n",
       "      <th>D1773</th>\n",
       "      <th>D1774</th>\n",
       "      <th>D1775</th>\n",
       "      <th>D1776</th>\n",
       "    </tr>\n",
       "  </thead>\n",
       "  <tbody>\n",
       "    <tr>\n",
       "      <th>0</th>\n",
       "      <td>1</td>\n",
       "      <td>0.000000</td>\n",
       "      <td>0.497009</td>\n",
       "      <td>0.10</td>\n",
       "      <td>0.0</td>\n",
       "      <td>0.132956</td>\n",
       "      <td>0.678031</td>\n",
       "      <td>0.273166</td>\n",
       "      <td>0.585445</td>\n",
       "      <td>0.743663</td>\n",
       "      <td>...</td>\n",
       "      <td>0</td>\n",
       "      <td>0</td>\n",
       "      <td>0</td>\n",
       "      <td>0</td>\n",
       "      <td>0</td>\n",
       "      <td>0</td>\n",
       "      <td>0</td>\n",
       "      <td>0</td>\n",
       "      <td>0</td>\n",
       "      <td>0</td>\n",
       "    </tr>\n",
       "    <tr>\n",
       "      <th>1</th>\n",
       "      <td>1</td>\n",
       "      <td>0.366667</td>\n",
       "      <td>0.606291</td>\n",
       "      <td>0.05</td>\n",
       "      <td>0.0</td>\n",
       "      <td>0.111209</td>\n",
       "      <td>0.803455</td>\n",
       "      <td>0.106105</td>\n",
       "      <td>0.411754</td>\n",
       "      <td>0.836582</td>\n",
       "      <td>...</td>\n",
       "      <td>1</td>\n",
       "      <td>1</td>\n",
       "      <td>1</td>\n",
       "      <td>1</td>\n",
       "      <td>0</td>\n",
       "      <td>1</td>\n",
       "      <td>0</td>\n",
       "      <td>0</td>\n",
       "      <td>1</td>\n",
       "      <td>0</td>\n",
       "    </tr>\n",
       "    <tr>\n",
       "      <th>2</th>\n",
       "      <td>1</td>\n",
       "      <td>0.033300</td>\n",
       "      <td>0.480124</td>\n",
       "      <td>0.00</td>\n",
       "      <td>0.0</td>\n",
       "      <td>0.209791</td>\n",
       "      <td>0.610350</td>\n",
       "      <td>0.356453</td>\n",
       "      <td>0.517720</td>\n",
       "      <td>0.679051</td>\n",
       "      <td>...</td>\n",
       "      <td>0</td>\n",
       "      <td>0</td>\n",
       "      <td>0</td>\n",
       "      <td>0</td>\n",
       "      <td>0</td>\n",
       "      <td>0</td>\n",
       "      <td>0</td>\n",
       "      <td>0</td>\n",
       "      <td>0</td>\n",
       "      <td>0</td>\n",
       "    </tr>\n",
       "    <tr>\n",
       "      <th>3</th>\n",
       "      <td>1</td>\n",
       "      <td>0.000000</td>\n",
       "      <td>0.538825</td>\n",
       "      <td>0.00</td>\n",
       "      <td>0.5</td>\n",
       "      <td>0.196344</td>\n",
       "      <td>0.724230</td>\n",
       "      <td>0.235606</td>\n",
       "      <td>0.288764</td>\n",
       "      <td>0.805110</td>\n",
       "      <td>...</td>\n",
       "      <td>0</td>\n",
       "      <td>0</td>\n",
       "      <td>0</td>\n",
       "      <td>0</td>\n",
       "      <td>0</td>\n",
       "      <td>0</td>\n",
       "      <td>0</td>\n",
       "      <td>0</td>\n",
       "      <td>0</td>\n",
       "      <td>0</td>\n",
       "    </tr>\n",
       "    <tr>\n",
       "      <th>4</th>\n",
       "      <td>0</td>\n",
       "      <td>0.100000</td>\n",
       "      <td>0.517794</td>\n",
       "      <td>0.00</td>\n",
       "      <td>0.0</td>\n",
       "      <td>0.494734</td>\n",
       "      <td>0.781422</td>\n",
       "      <td>0.154361</td>\n",
       "      <td>0.303809</td>\n",
       "      <td>0.812646</td>\n",
       "      <td>...</td>\n",
       "      <td>0</td>\n",
       "      <td>0</td>\n",
       "      <td>0</td>\n",
       "      <td>0</td>\n",
       "      <td>0</td>\n",
       "      <td>0</td>\n",
       "      <td>0</td>\n",
       "      <td>0</td>\n",
       "      <td>0</td>\n",
       "      <td>0</td>\n",
       "    </tr>\n",
       "  </tbody>\n",
       "</table>\n",
       "<p>5 rows × 1777 columns</p>\n",
       "</div>"
      ],
      "text/plain": [
       "   Activity        D1        D2    D3   D4        D5        D6        D7  \\\n",
       "0         1  0.000000  0.497009  0.10  0.0  0.132956  0.678031  0.273166   \n",
       "1         1  0.366667  0.606291  0.05  0.0  0.111209  0.803455  0.106105   \n",
       "2         1  0.033300  0.480124  0.00  0.0  0.209791  0.610350  0.356453   \n",
       "3         1  0.000000  0.538825  0.00  0.5  0.196344  0.724230  0.235606   \n",
       "4         0  0.100000  0.517794  0.00  0.0  0.494734  0.781422  0.154361   \n",
       "\n",
       "         D8        D9  ...  D1767  D1768  D1769  D1770  D1771  D1772  D1773  \\\n",
       "0  0.585445  0.743663  ...      0      0      0      0      0      0      0   \n",
       "1  0.411754  0.836582  ...      1      1      1      1      0      1      0   \n",
       "2  0.517720  0.679051  ...      0      0      0      0      0      0      0   \n",
       "3  0.288764  0.805110  ...      0      0      0      0      0      0      0   \n",
       "4  0.303809  0.812646  ...      0      0      0      0      0      0      0   \n",
       "\n",
       "   D1774  D1775  D1776  \n",
       "0      0      0      0  \n",
       "1      0      1      0  \n",
       "2      0      0      0  \n",
       "3      0      0      0  \n",
       "4      0      0      0  \n",
       "\n",
       "[5 rows x 1777 columns]"
      ]
     },
     "execution_count": 11,
     "metadata": {},
     "output_type": "execute_result"
    }
   ],
   "source": [
    "data_df = pd.read_csv('data/train_sem09.csv')\n",
    "data_df.head()"
   ]
  },
  {
   "cell_type": "code",
   "execution_count": 12,
   "metadata": {},
   "outputs": [
    {
     "name": "stdout",
     "output_type": "stream",
     "text": [
      "<class 'pandas.core.frame.DataFrame'>\n",
      "RangeIndex: 3751 entries, 0 to 3750\n",
      "Columns: 1777 entries, Activity to D1776\n",
      "dtypes: float64(942), int64(835)\n",
      "memory usage: 50.9 MB\n"
     ]
    }
   ],
   "source": [
    "data_df.info()"
   ]
  },
  {
   "attachments": {},
   "cell_type": "markdown",
   "metadata": {},
   "source": [
    "Проверим, сбалансирован ли датасет по таргету."
   ]
  },
  {
   "cell_type": "code",
   "execution_count": 13,
   "metadata": {},
   "outputs": [
    {
     "data": {
      "text/plain": [
       "1    0.542255\n",
       "0    0.457745\n",
       "Name: Activity, dtype: float64"
      ]
     },
     "execution_count": 13,
     "metadata": {},
     "output_type": "execute_result"
    }
   ],
   "source": [
    "data_df['Activity'].value_counts(normalize=True)"
   ]
  },
  {
   "attachments": {},
   "cell_type": "markdown",
   "metadata": {},
   "source": [
    "Расхождение небольшое, поэтому можно считать, что таргет сбалансирован. Выделим факторы и таргет, а также разобьем выборку на обучающую и тестовую."
   ]
  },
  {
   "cell_type": "code",
   "execution_count": 14,
   "metadata": {},
   "outputs": [],
   "source": [
    "X = data_df.drop('Activity', axis=1)\n",
    "y = data_df['Activity']\n",
    "\n",
    "X_train, X_test, y_train, y_test = train_test_split(X, y, random_state = 42, test_size = 0.2)"
   ]
  },
  {
   "attachments": {},
   "cell_type": "markdown",
   "metadata": {},
   "source": [
    "Обучим модель логистической регресии."
   ]
  },
  {
   "cell_type": "code",
   "execution_count": 15,
   "metadata": {},
   "outputs": [
    {
     "name": "stdout",
     "output_type": "stream",
     "text": [
      "F1 на тестовом наборе для базовой модели логистической регресии: 0.79\n"
     ]
    }
   ],
   "source": [
    "#Создаем объект класса логистическая регрессия\n",
    "log_reg = linear_model.LogisticRegression(max_iter = 500, random_state=42)\n",
    "#Обучаем модель, минимизируя logloss\n",
    "log_reg.fit(X_train, y_train)\n",
    "\n",
    "y_test_pred = log_reg.predict(X_test)\n",
    "print('F1 на тестовом наборе для базовой модели логистической регресии: {:.2f}'.format(metrics.f1_score(y_test, y_test_pred)))"
   ]
  },
  {
   "attachments": {},
   "cell_type": "markdown",
   "metadata": {},
   "source": [
    "Обучим модель случайных деревьев."
   ]
  },
  {
   "cell_type": "code",
   "execution_count": 16,
   "metadata": {},
   "outputs": [
    {
     "name": "stdout",
     "output_type": "stream",
     "text": [
      "F1 на тестовом наборе для базовой модели случайного леса: 0.83\n"
     ]
    }
   ],
   "source": [
    "#Создаем объект класса случайный лес\n",
    "rf = ensemble.RandomForestClassifier(random_state=42)\n",
    "\n",
    "#Обучаем модель\n",
    "rf.fit(X_train, y_train)\n",
    "#Выводим значения метрики \n",
    "\n",
    "y_test_pred = rf.predict(X_test)\n",
    "print('F1 на тестовом наборе для базовой модели случайного леса: {:.2f}'.format(metrics.f1_score(y_test, y_test_pred)))"
   ]
  },
  {
   "attachments": {},
   "cell_type": "markdown",
   "metadata": {},
   "source": [
    "# GridSearchCV"
   ]
  },
  {
   "attachments": {},
   "cell_type": "markdown",
   "metadata": {},
   "source": [
    "## Логистическая регрессия"
   ]
  },
  {
   "cell_type": "code",
   "execution_count": 17,
   "metadata": {},
   "outputs": [
    {
     "name": "stdout",
     "output_type": "stream",
     "text": [
      "CPU times: total: 8.44 s\n",
      "Wall time: 10min 15s\n",
      "F1 на тестовом наборе для логистической регресии (GridSearchCV): 0.79\n",
      "Наилучшие значения гиперпараметров: {'C': 0.1, 'penalty': 'l2', 'solver': 'lbfgs'}\n"
     ]
    }
   ],
   "source": [
    "param_grid = [\n",
    "              {'penalty': ['l1', 'l2'] ,\n",
    "              'solver': ['liblinear', 'saga'], # алгоритм оптимизации\n",
    "               'C': [0.01, 0.1, 0.3, 0.5, 0.7, 0.9, 1]}, # уровень силы регурялизации\n",
    "              \n",
    "              {'penalty': ['l2', 'none'] , # тип регуляризации\n",
    "              'solver': ['lbfgs', 'sag'], # алгоритм оптимизации\n",
    "               'C': [0.01, 0.1, 0.3, 0.5, 0.7, 0.9, 1]}, # уровень силы регурялизации\n",
    "]\n",
    "\n",
    "grid_search_1 = GridSearchCV(\n",
    "    estimator=linear_model.LogisticRegression(random_state=42, max_iter=500), \n",
    "    param_grid=param_grid, \n",
    "    cv=5, \n",
    "    n_jobs = -1\n",
    ")  \n",
    "%time grid_search_1.fit(X_train, y_train) \n",
    "\n",
    "y_test_pred = grid_search_1.predict(X_test)\n",
    "print('F1 на тестовом наборе для логистической регресии (GridSearchCV): {:.2f}'.format(metrics.f1_score(y_test, y_test_pred)))\n",
    "print(\"Наилучшие значения гиперпараметров: {}\".format(grid_search_1.best_params_))"
   ]
  },
  {
   "attachments": {},
   "cell_type": "markdown",
   "metadata": {},
   "source": [
    "## Случайный лес"
   ]
  },
  {
   "cell_type": "code",
   "execution_count": 18,
   "metadata": {},
   "outputs": [
    {
     "name": "stdout",
     "output_type": "stream",
     "text": [
      "CPU times: total: 8.7 s\n",
      "Wall time: 2min 57s\n",
      "F1 на тестовом наборе для случайного леса (GridSearchCV): 0.83\n",
      "Наилучшие значения гиперпараметров: {'max_depth': 15, 'min_samples_split': 7, 'n_estimators': 400}\n"
     ]
    }
   ],
   "source": [
    "param_grid = {'n_estimators': [100, 200, 300, 400] , # тип регуляризации\n",
    "              'max_depth': [5, 10, 15, 20], # алгоритм оптимизации\n",
    "               'min_samples_split': [5, 7, 9]}, # уровень силы регурялизации\n",
    "\n",
    "grid_search_2 = GridSearchCV(\n",
    "    estimator=ensemble.RandomForestClassifier(random_state=42), \n",
    "    param_grid=param_grid, \n",
    "    cv=5, \n",
    "    n_jobs = -1\n",
    ")  \n",
    "\n",
    "%time grid_search_2.fit(X_train, y_train) \n",
    "\n",
    "y_test_pred = grid_search_2.predict(X_test)\n",
    "print('F1 на тестовом наборе для случайного леса (GridSearchCV): {:.2f}'.format(metrics.f1_score(y_test, y_test_pred)))\n",
    "print(\"Наилучшие значения гиперпараметров: {}\".format(grid_search_2.best_params_))"
   ]
  },
  {
   "attachments": {},
   "cell_type": "markdown",
   "metadata": {},
   "source": [
    "## GridSearchCV — выводы"
   ]
  },
  {
   "attachments": {},
   "cell_type": "markdown",
   "metadata": {},
   "source": [
    "С помощью GridSearchCV нам не удалось улучшить метрику F1 ни одной из модели."
   ]
  },
  {
   "attachments": {},
   "cell_type": "markdown",
   "metadata": {},
   "source": [
    "# RandomizedSearchCV"
   ]
  },
  {
   "attachments": {},
   "cell_type": "markdown",
   "metadata": {},
   "source": [
    "## Логистическая регрессия"
   ]
  },
  {
   "cell_type": "code",
   "execution_count": 19,
   "metadata": {},
   "outputs": [
    {
     "name": "stdout",
     "output_type": "stream",
     "text": [
      "CPU times: total: 531 ms\n",
      "Wall time: 2min 1s\n",
      "F1 на тестовом наборе для логистической регресии (RandomizedSearchCV): 0.80\n",
      "Наилучшие значения гиперпараметров: {'solver': 'liblinear', 'penalty': 'l1', 'C': 0.56}\n"
     ]
    }
   ],
   "source": [
    "param_distributions = [\n",
    "              {'penalty': ['l1', 'l2'] ,\n",
    "              'solver': ['liblinear', 'saga'], # алгоритм оптимизации\n",
    "               'C': list(np.linspace(0.01, 1, 10, dtype=float))}, # уровень силы регурялизации\n",
    "              \n",
    "              {'penalty': ['l2', 'none'] , # тип регуляризации\n",
    "              'solver': ['lbfgs', 'sag'], # алгоритм оптимизации\n",
    "               'C': list(np.linspace(0.01, 1, 10, dtype=float))}, # уровень силы регурялизации\n",
    "]\n",
    "            \n",
    "random_search_1 = RandomizedSearchCV(\n",
    "    estimator=linear_model.LogisticRegression(random_state=42, max_iter=500), \n",
    "    param_distributions=param_distributions, \n",
    "    cv=5, \n",
    "    n_iter = 10, \n",
    "    n_jobs = -1\n",
    ")  \n",
    "\n",
    "%time random_search_1.fit(X_train, y_train) \n",
    "\n",
    "y_test_pred = random_search_1.predict(X_test)\n",
    "print('F1 на тестовом наборе для логистической регресии (RandomizedSearchCV): {:.2f}'.format(metrics.f1_score(y_test, y_test_pred)))\n",
    "print(\"Наилучшие значения гиперпараметров: {}\".format(random_search_1.best_params_))"
   ]
  },
  {
   "attachments": {},
   "cell_type": "markdown",
   "metadata": {},
   "source": [
    "## Случайный лес"
   ]
  },
  {
   "cell_type": "code",
   "execution_count": 20,
   "metadata": {},
   "outputs": [
    {
     "name": "stdout",
     "output_type": "stream",
     "text": [
      "CPU times: total: 1.64 s\n",
      "Wall time: 39.6 s\n",
      "F1 на тестовом наборе для случайного леса (RandomizedSearchCV): 0.83\n",
      "Наилучшие значения гиперпараметров: {'n_estimators': 100, 'min_samples_leaf': 5, 'max_depth': 20}\n"
     ]
    }
   ],
   "source": [
    "param_distributions = {'n_estimators': list(range(100, 401, 100)),\n",
    "              'min_samples_leaf': list(range(5, 12, 2)),\n",
    "              'max_depth': list(range(10, 41, 10))\n",
    "              }\n",
    "            \n",
    "random_search_2 = RandomizedSearchCV(\n",
    "    estimator=ensemble.RandomForestClassifier(random_state=42), \n",
    "    param_distributions=param_distributions, \n",
    "    cv=5,\n",
    "    n_iter = 10, \n",
    "    n_jobs = -1\n",
    ")  \n",
    "\n",
    "%time random_search_2 .fit(X_train, y_train) \n",
    "\n",
    "y_test_pred = random_search_2 .predict(X_test)\n",
    "print('F1 на тестовом наборе для случайного леса (RandomizedSearchCV): {:.2f}'.format(metrics.f1_score(y_test, y_test_pred)))\n",
    "print(\"Наилучшие значения гиперпараметров: {}\".format(random_search_2 .best_params_))"
   ]
  },
  {
   "attachments": {},
   "cell_type": "markdown",
   "metadata": {},
   "source": [
    "## RandomizedSearchCV — выводы"
   ]
  },
  {
   "attachments": {},
   "cell_type": "markdown",
   "metadata": {},
   "source": [
    "Удалось увеличить метрику F1 только для логистической регрессии."
   ]
  },
  {
   "attachments": {},
   "cell_type": "markdown",
   "metadata": {},
   "source": [
    "# Hyperopt"
   ]
  },
  {
   "attachments": {},
   "cell_type": "markdown",
   "metadata": {},
   "source": [
    "## Логистическая регрессия"
   ]
  },
  {
   "cell_type": "code",
   "execution_count": 29,
   "metadata": {},
   "outputs": [
    {
     "name": "stdout",
     "output_type": "stream",
     "text": [
      "100%|██████████| 20/20 [06:21<00:00, 19.07s/trial, best loss: -0.7770905250709086]\n",
      "Наилучшие значения гиперпараметров {'C': 0.42219097013541806, 'penalty': 0, 'solver': 0}\n",
      "F1 на тестовом наборе для логистической регресии (Hyperopt): 0.78\n"
     ]
    }
   ],
   "source": [
    "# зададим пространство поиска гиперпараметров\n",
    "pen = ['l2', 'none']\n",
    "sol = ['lbfgs', 'sag']\n",
    "\n",
    "space ={\n",
    "    'penalty': hp.choice('penalty', ['l2', 'none']) , # тип регуляризации\n",
    "    'solver': hp.choice('solver', ['lbfgs', 'sag']), # алгоритм оптимизации\n",
    "    'C': hp.uniform('C', 0.01, 10) # уровень силы регурялизации\n",
    "} \n",
    "      \n",
    "def hyperopt_rf(params, cv=5, X=X_train, y=y_train, random_state=42):\n",
    "    # функция получает комбинацию гиперпараметров в \"params\"\n",
    "    params = {'penalty': str(params['penalty']), \n",
    "              'solver': str(params['solver']), \n",
    "             'C': float(params['C'])\n",
    "              }\n",
    "  \n",
    "    # используем эту комбинацию для построения модели\n",
    "    model = linear_model.LogisticRegression(**params, random_state=42, max_iter=500)\n",
    "\n",
    "    # обучаем модель\n",
    "    # model.fit(X, y)\n",
    "    # score = metrics.f1_score(y, model.predict(X))\n",
    "    \n",
    "    # обучать модель можно также с помощью кросс-валидации\n",
    "    # применим  cross validation с тем же количеством фолдов\n",
    "    score = cross_val_score(model, X, y, cv=cv, scoring=\"f1\", n_jobs=-1).mean()\n",
    "\n",
    "    # метрику необходимо минимизировать, поэтому ставим знак минус\n",
    "    return -score\n",
    "\n",
    "trials_lr = Trials() # используется для логирования результатов\n",
    "\n",
    "best = fmin(hyperopt_rf, # наша функция \n",
    "          space=space, # пространство гиперпараметров\n",
    "          algo=tpe.suggest, # алгоритм оптимизации, установлен по умолчанию, задавать необязательно\n",
    "          max_evals=20, # максимальное количество итераций\n",
    "          trials=trials_lr, # логирование результатов\n",
    "          rstate=np.random.default_rng(42)# фиксируем для повторяемости результата\n",
    "         )\n",
    "print(\"Наилучшие значения гиперпараметров {}\".format(best))\n",
    "\n",
    "# рассчитаем точность для тестовой выборки\n",
    "model = linear_model.LogisticRegression(\n",
    "    random_state=42,\n",
    "    max_iter=1000,\n",
    "    penalty=pen[best['penalty']],\n",
    "    solver=sol[best['solver']],\n",
    "    C=float(best['C'])\n",
    ")\n",
    "model.fit(X_train, y_train)\n",
    "\n",
    "y_test_pred = model.predict(X_test)\n",
    "print('F1 на тестовом наборе для логистической регресии (Hyperopt): {:.2f}'.format(metrics.f1_score(y_test, y_test_pred)))"
   ]
  },
  {
   "attachments": {},
   "cell_type": "markdown",
   "metadata": {},
   "source": [
    "## Случайный лес"
   ]
  },
  {
   "cell_type": "code",
   "execution_count": 22,
   "metadata": {},
   "outputs": [
    {
     "name": "stdout",
     "output_type": "stream",
     "text": [
      "100%|██████████| 20/20 [01:20<00:00,  4.02s/trial, best loss: -0.8093103621614777]\n",
      "Наилучшие значения гиперпараметров {'max_depth': 16.0, 'min_samples_leaf': 3.0, 'n_estimators': 327.0}\n",
      "F1 на тестовом наборе для случайного леса (Hyperopt): 0.84\n"
     ]
    }
   ],
   "source": [
    "# зададим пространство поиска гиперпараметров\n",
    "space={'n_estimators': hp.quniform('n_estimators', 100, 401, 1),\n",
    "       'max_depth' : hp.quniform('max_depth', 5, 31, 1),\n",
    "       'min_samples_leaf': hp.quniform('min_samples_leaf', 2, 10, 1)\n",
    "      }\n",
    "\n",
    "def hyperopt_rf(params, cv=5, X=X_train, y=y_train, random_state=42):\n",
    "    # функция получает комбинацию гиперпараметров в \"params\"\n",
    "    params = {'n_estimators': int(params['n_estimators']), \n",
    "              'max_depth': int(params['max_depth']), \n",
    "             'min_samples_leaf': int(params['min_samples_leaf'])\n",
    "              }\n",
    "  \n",
    "    # используем эту комбинацию для построения модели\n",
    "    model = ensemble.RandomForestClassifier(**params, random_state=42)\n",
    "\n",
    "    # обучаем модель\n",
    "    # model.fit(X, y)\n",
    "    # score = metrics.f1_score(y, model.predict(X))\n",
    "    \n",
    "    # обучать модель можно также с помощью кросс-валидации\n",
    "    # применим  cross validation с тем же количеством фолдов\n",
    "    score = cross_val_score(model, X, y, cv=cv, scoring=\"f1\", n_jobs=-1).mean()\n",
    "\n",
    "    # метрику необходимо минимизировать, поэтому ставим знак минус\n",
    "    return -score\n",
    "\n",
    "trials_rf = Trials() # используется для логирования результатов\n",
    "\n",
    "best = fmin(hyperopt_rf, # наша функция \n",
    "          space=space, # пространство гиперпараметров\n",
    "          algo=tpe.suggest, # алгоритм оптимизации, установлен по умолчанию, задавать необязательно\n",
    "          max_evals=20, # максимальное количество итераций\n",
    "          trials=trials_rf, # логирование результатов\n",
    "          rstate=np.random.default_rng(42)# фиксируем для повторяемости результата\n",
    "         )\n",
    "print(\"Наилучшие значения гиперпараметров {}\".format(best))\n",
    "\n",
    "# рассчитаем точность для тестовой выборки\n",
    "model = ensemble.RandomForestClassifier(\n",
    "    random_state=42, \n",
    "    n_estimators=int(best['n_estimators']),\n",
    "    max_depth=int(best['max_depth']),\n",
    "    min_samples_leaf=int(best['min_samples_leaf'])\n",
    ")\n",
    "model.fit(X_train, y_train)\n",
    "\n",
    "y_test_pred = model.predict(X_test)\n",
    "print('F1 на тестовом наборе для случайного леса (Hyperopt): {:.2f}'.format(metrics.f1_score(y_test, y_test_pred)))"
   ]
  },
  {
   "attachments": {},
   "cell_type": "markdown",
   "metadata": {},
   "source": [
    "## Hyperopt — результаты"
   ]
  },
  {
   "attachments": {},
   "cell_type": "markdown",
   "metadata": {},
   "source": [
    "Удалось увеличить метрику F1 только для случайного леса."
   ]
  },
  {
   "attachments": {},
   "cell_type": "markdown",
   "metadata": {},
   "source": [
    "# Optuna"
   ]
  },
  {
   "attachments": {},
   "cell_type": "markdown",
   "metadata": {},
   "source": [
    "## Логистическая регрессия"
   ]
  },
  {
   "cell_type": "code",
   "execution_count": 26,
   "metadata": {},
   "outputs": [
    {
     "name": "stderr",
     "output_type": "stream",
     "text": [
      "\u001b[32m[I 2023-04-15 17:23:21,882]\u001b[0m A new study created in memory with name: LogisticRegression\u001b[0m\n",
      "\u001b[32m[I 2023-04-15 17:23:30,359]\u001b[0m Trial 0 finished with value: 0.7495325999076545 and parameters: {'penalty': 'none', 'solver': 'lbfgs', 'C': 8.626094378336226}. Best is trial 0 with value: 0.7495325999076545.\u001b[0m\n",
      "\u001b[32m[I 2023-04-15 17:23:43,812]\u001b[0m Trial 1 finished with value: 0.7695615180137781 and parameters: {'penalty': 'l2', 'solver': 'sag', 'C': 2.9385549469920997}. Best is trial 1 with value: 0.7695615180137781.\u001b[0m\n",
      "\u001b[32m[I 2023-04-15 17:23:58,136]\u001b[0m Trial 2 finished with value: 0.765192739560377 and parameters: {'penalty': 'none', 'solver': 'sag', 'C': 2.757930201780907}. Best is trial 1 with value: 0.7695615180137781.\u001b[0m\n",
      "\u001b[32m[I 2023-04-15 17:24:06,436]\u001b[0m Trial 3 finished with value: 0.7495325999076545 and parameters: {'penalty': 'none', 'solver': 'lbfgs', 'C': 8.11554872079798}. Best is trial 1 with value: 0.7695615180137781.\u001b[0m\n",
      "\u001b[32m[I 2023-04-15 17:24:21,501]\u001b[0m Trial 4 finished with value: 0.765192739560377 and parameters: {'penalty': 'none', 'solver': 'sag', 'C': 4.1454435959468805}. Best is trial 1 with value: 0.7695615180137781.\u001b[0m\n",
      "\u001b[32m[I 2023-04-15 17:24:35,116]\u001b[0m Trial 5 finished with value: 0.765192739560377 and parameters: {'penalty': 'none', 'solver': 'sag', 'C': 7.152497197899129}. Best is trial 1 with value: 0.7695615180137781.\u001b[0m\n",
      "\u001b[32m[I 2023-04-15 17:24:49,445]\u001b[0m Trial 6 finished with value: 0.7682392313599505 and parameters: {'penalty': 'l2', 'solver': 'sag', 'C': 6.8839509424111425}. Best is trial 1 with value: 0.7695615180137781.\u001b[0m\n",
      "\u001b[32m[I 2023-04-15 17:24:57,574]\u001b[0m Trial 7 finished with value: 0.7495325999076545 and parameters: {'penalty': 'none', 'solver': 'lbfgs', 'C': 6.009985875942576}. Best is trial 1 with value: 0.7695615180137781.\u001b[0m\n",
      "\u001b[32m[I 2023-04-15 17:25:11,828]\u001b[0m Trial 8 finished with value: 0.765192739560377 and parameters: {'penalty': 'none', 'solver': 'sag', 'C': 0.695394512813103}. Best is trial 1 with value: 0.7695615180137781.\u001b[0m\n",
      "\u001b[32m[I 2023-04-15 17:25:19,977]\u001b[0m Trial 9 finished with value: 0.7495325999076545 and parameters: {'penalty': 'none', 'solver': 'lbfgs', 'C': 8.168362027338675}. Best is trial 1 with value: 0.7695615180137781.\u001b[0m\n",
      "\u001b[32m[I 2023-04-15 17:25:33,852]\u001b[0m Trial 10 finished with value: 0.7694431639464163 and parameters: {'penalty': 'l2', 'solver': 'sag', 'C': 4.186209088904869}. Best is trial 1 with value: 0.7695615180137781.\u001b[0m\n",
      "\u001b[32m[I 2023-04-15 17:25:47,916]\u001b[0m Trial 11 finished with value: 0.7694431639464163 and parameters: {'penalty': 'l2', 'solver': 'sag', 'C': 4.148598309390636}. Best is trial 1 with value: 0.7695615180137781.\u001b[0m\n",
      "\u001b[32m[I 2023-04-15 17:26:02,008]\u001b[0m Trial 12 finished with value: 0.7697615748517832 and parameters: {'penalty': 'l2', 'solver': 'sag', 'C': 2.4759854579952476}. Best is trial 12 with value: 0.7697615748517832.\u001b[0m\n",
      "\u001b[32m[I 2023-04-15 17:26:15,989]\u001b[0m Trial 13 finished with value: 0.7717070814473749 and parameters: {'penalty': 'l2', 'solver': 'sag', 'C': 1.6862247095490526}. Best is trial 13 with value: 0.7717070814473749.\u001b[0m\n",
      "\u001b[32m[I 2023-04-15 17:26:30,424]\u001b[0m Trial 14 finished with value: 0.7772658950541209 and parameters: {'penalty': 'l2', 'solver': 'sag', 'C': 0.7698378307292109}. Best is trial 14 with value: 0.7772658950541209.\u001b[0m\n",
      "\u001b[32m[I 2023-04-15 17:26:44,975]\u001b[0m Trial 15 finished with value: 0.7761708444559755 and parameters: {'penalty': 'l2', 'solver': 'sag', 'C': 0.9682273309073022}. Best is trial 14 with value: 0.7772658950541209.\u001b[0m\n",
      "\u001b[32m[I 2023-04-15 17:26:59,388]\u001b[0m Trial 16 finished with value: 0.7821862093704526 and parameters: {'penalty': 'l2', 'solver': 'sag', 'C': 0.1408047638092942}. Best is trial 16 with value: 0.7821862093704526.\u001b[0m\n",
      "\u001b[32m[I 2023-04-15 17:27:09,205]\u001b[0m Trial 17 finished with value: 0.7915488698619545 and parameters: {'penalty': 'l2', 'solver': 'sag', 'C': 0.029763094055234793}. Best is trial 17 with value: 0.7915488698619545.\u001b[0m\n",
      "\u001b[32m[I 2023-04-15 17:27:16,604]\u001b[0m Trial 18 finished with value: 0.7804306227862234 and parameters: {'penalty': 'l2', 'solver': 'lbfgs', 'C': 0.18031170006307207}. Best is trial 17 with value: 0.7915488698619545.\u001b[0m\n",
      "\u001b[32m[I 2023-04-15 17:27:30,410]\u001b[0m Trial 19 finished with value: 0.7718216720701858 and parameters: {'penalty': 'l2', 'solver': 'sag', 'C': 1.6372029542529674}. Best is trial 17 with value: 0.7915488698619545.\u001b[0m\n"
     ]
    },
    {
     "name": "stdout",
     "output_type": "stream",
     "text": [
      "Наилучшие значения гиперпараметров {'penalty': 'l2', 'solver': 'sag', 'C': 0.029763094055234793}\n",
      "F1 на обучающем наборе для логистической регресии (Optuna): 0.79\n",
      "F1 на тестовом наборе для логистической регресии (Optuna): 0.80\n"
     ]
    }
   ],
   "source": [
    "space ={\n",
    "    'penalty': hp.choice('penalty', ['l2', 'none']) , # тип регуляризации\n",
    "    'solver': hp.choice('solver', ['lbfgs', 'sag']), # алгоритм оптимизации\n",
    "    'C': hp.uniform('C', 0.01, 10) # уровень силы регурялизации\n",
    "} \n",
    "\n",
    "def optuna_rf(trial, cv=5):\n",
    "  # задаем пространства поиска гиперпараметров\n",
    "  penalty = trial.suggest_categorical('penalty', ['l2', 'none'])\n",
    "  solver = trial.suggest_categorical('solver', ['lbfgs', 'sag'])\n",
    "  C = trial.suggest_float('C', 0.01, 10)\n",
    "\n",
    "  # создаем модель\n",
    "  model = linear_model.LogisticRegression(penalty=penalty,\n",
    "                                          solver=solver,\n",
    "                                          C=C,\n",
    "                                          random_state=42,\n",
    "                                          max_iter=250)\n",
    "  # обучаем модель\n",
    "  # model.fit(X_train, y_train)\n",
    "  # score = metrics.f1_score(y_train, model.predict(X_train))\n",
    "\n",
    "  score = cross_val_score(model, X, y, cv=cv, scoring=\"f1\", n_jobs=-1).mean()\n",
    "\n",
    "  return score\n",
    "\n",
    "# cоздаем объект исследования\n",
    "# можем напрямую указать, что нам необходимо максимизировать метрику direction=\"maximize\"\n",
    "study = optuna.create_study(study_name=\"LogisticRegression\", direction=\"maximize\")\n",
    "# ищем лучшую комбинацию гиперпараметров n_trials раз\n",
    "study.optimize(optuna_rf, n_trials=20)\n",
    "\n",
    "# выводим результаты на обучающей выборке\n",
    "print(\"Наилучшие значения гиперпараметров {}\".format(study.best_params))\n",
    "print(\"F1 на обучающем наборе для логистической регресии (Optuna): {:.2f}\".format(study.best_value))\n",
    "\n",
    "# рассчитаем точность для тестовой выборки\n",
    "model = linear_model.LogisticRegression(**study.best_params, random_state=42, max_iter=1000)\n",
    "model.fit(X_train, y_train)\n",
    "y_test_pred = model.predict(X_test)\n",
    "print('F1 на тестовом наборе для логистической регресии (Optuna): {:.2f}'.format(metrics.f1_score(y_test, y_test_pred)))"
   ]
  },
  {
   "attachments": {},
   "cell_type": "markdown",
   "metadata": {},
   "source": [
    "## Случайный лес"
   ]
  },
  {
   "cell_type": "code",
   "execution_count": 27,
   "metadata": {},
   "outputs": [
    {
     "name": "stderr",
     "output_type": "stream",
     "text": [
      "\u001b[32m[I 2023-04-15 17:27:36,542]\u001b[0m A new study created in memory with name: RandomForestClassifier\u001b[0m\n",
      "\u001b[32m[I 2023-04-15 17:27:41,398]\u001b[0m Trial 0 finished with value: 0.7758093634659164 and parameters: {'n_estimators': 360, 'max_depth': 7, 'min_samples_leaf': 8}. Best is trial 0 with value: 0.7758093634659164.\u001b[0m\n",
      "\u001b[32m[I 2023-04-15 17:27:52,282]\u001b[0m Trial 1 finished with value: 0.8151297931724042 and parameters: {'n_estimators': 400, 'max_depth': 21, 'min_samples_leaf': 2}. Best is trial 1 with value: 0.8151297931724042.\u001b[0m\n",
      "\u001b[32m[I 2023-04-15 17:27:56,891]\u001b[0m Trial 2 finished with value: 0.7758368668919158 and parameters: {'n_estimators': 350, 'max_depth': 7, 'min_samples_leaf': 10}. Best is trial 1 with value: 0.8151297931724042.\u001b[0m\n",
      "\u001b[32m[I 2023-04-15 17:28:01,197]\u001b[0m Trial 3 finished with value: 0.7895545749700418 and parameters: {'n_estimators': 280, 'max_depth': 8, 'min_samples_leaf': 7}. Best is trial 1 with value: 0.8151297931724042.\u001b[0m\n",
      "\u001b[32m[I 2023-04-15 17:28:05,703]\u001b[0m Trial 4 finished with value: 0.8106817045906313 and parameters: {'n_estimators': 160, 'max_depth': 25, 'min_samples_leaf': 3}. Best is trial 1 with value: 0.8151297931724042.\u001b[0m\n",
      "\u001b[32m[I 2023-04-15 17:28:15,194]\u001b[0m Trial 5 finished with value: 0.8160120503674158 and parameters: {'n_estimators': 370, 'max_depth': 24, 'min_samples_leaf': 3}. Best is trial 5 with value: 0.8160120503674158.\u001b[0m\n",
      "\u001b[32m[I 2023-04-15 17:28:22,250]\u001b[0m Trial 6 finished with value: 0.810626072149919 and parameters: {'n_estimators': 300, 'max_depth': 23, 'min_samples_leaf': 4}. Best is trial 5 with value: 0.8160120503674158.\u001b[0m\n",
      "\u001b[32m[I 2023-04-15 17:28:29,639]\u001b[0m Trial 7 finished with value: 0.8097304055176642 and parameters: {'n_estimators': 320, 'max_depth': 29, 'min_samples_leaf': 4}. Best is trial 5 with value: 0.8160120503674158.\u001b[0m\n",
      "\u001b[32m[I 2023-04-15 17:28:35,091]\u001b[0m Trial 8 finished with value: 0.8041565161075273 and parameters: {'n_estimators': 300, 'max_depth': 11, 'min_samples_leaf': 7}. Best is trial 5 with value: 0.8160120503674158.\u001b[0m\n",
      "\u001b[32m[I 2023-04-15 17:28:40,855]\u001b[0m Trial 9 finished with value: 0.8175890537773911 and parameters: {'n_estimators': 210, 'max_depth': 29, 'min_samples_leaf': 2}. Best is trial 9 with value: 0.8175890537773911.\u001b[0m\n",
      "\u001b[32m[I 2023-04-15 17:28:45,460]\u001b[0m Trial 10 finished with value: 0.8071115041134936 and parameters: {'n_estimators': 200, 'max_depth': 31, 'min_samples_leaf': 5}. Best is trial 9 with value: 0.8175890537773911.\u001b[0m\n",
      "\u001b[32m[I 2023-04-15 17:28:48,269]\u001b[0m Trial 11 finished with value: 0.8124473356031181 and parameters: {'n_estimators': 100, 'max_depth': 16, 'min_samples_leaf': 2}. Best is trial 9 with value: 0.8175890537773911.\u001b[0m\n",
      "\u001b[32m[I 2023-04-15 17:28:54,675]\u001b[0m Trial 12 finished with value: 0.8163051073716794 and parameters: {'n_estimators': 230, 'max_depth': 27, 'min_samples_leaf': 2}. Best is trial 9 with value: 0.8175890537773911.\u001b[0m\n",
      "\u001b[32m[I 2023-04-15 17:29:00,545]\u001b[0m Trial 13 finished with value: 0.8183569156711583 and parameters: {'n_estimators': 220, 'max_depth': 28, 'min_samples_leaf': 2}. Best is trial 13 with value: 0.8183569156711583.\u001b[0m\n",
      "\u001b[32m[I 2023-04-15 17:29:04,865]\u001b[0m Trial 14 finished with value: 0.8086223052619717 and parameters: {'n_estimators': 180, 'max_depth': 19, 'min_samples_leaf': 5}. Best is trial 13 with value: 0.8183569156711583.\u001b[0m\n",
      "\u001b[32m[I 2023-04-15 17:29:10,587]\u001b[0m Trial 15 finished with value: 0.8102756214232161 and parameters: {'n_estimators': 250, 'max_depth': 15, 'min_samples_leaf': 4}. Best is trial 13 with value: 0.8183569156711583.\u001b[0m\n",
      "\u001b[32m[I 2023-04-15 17:29:13,275]\u001b[0m Trial 16 finished with value: 0.7952904138226985 and parameters: {'n_estimators': 120, 'max_depth': 31, 'min_samples_leaf': 10}. Best is trial 13 with value: 0.8183569156711583.\u001b[0m\n",
      "\u001b[32m[I 2023-04-15 17:29:18,940]\u001b[0m Trial 17 finished with value: 0.8130701716090643 and parameters: {'n_estimators': 220, 'max_depth': 28, 'min_samples_leaf': 3}. Best is trial 13 with value: 0.8183569156711583.\u001b[0m\n",
      "\u001b[32m[I 2023-04-15 17:29:22,748]\u001b[0m Trial 18 finished with value: 0.8034364131979841 and parameters: {'n_estimators': 160, 'max_depth': 26, 'min_samples_leaf': 6}. Best is trial 13 with value: 0.8183569156711583.\u001b[0m\n",
      "\u001b[32m[I 2023-04-15 17:29:29,553]\u001b[0m Trial 19 finished with value: 0.8153828761058536 and parameters: {'n_estimators': 260, 'max_depth': 21, 'min_samples_leaf': 2}. Best is trial 13 with value: 0.8183569156711583.\u001b[0m\n"
     ]
    },
    {
     "name": "stdout",
     "output_type": "stream",
     "text": [
      "Наилучшие значения гиперпараметров {'n_estimators': 220, 'max_depth': 28, 'min_samples_leaf': 2}\n",
      "F1 на обучающем наборе для случайного леса (Optuna): 0.82\n",
      "F1 на тестовом наборе для случайного леса (Optuna): 0.83\n"
     ]
    }
   ],
   "source": [
    "def optuna_rf(trial, cv=5):\n",
    "  # задаем пространства поиска гиперпараметров\n",
    "  n_estimators = trial.suggest_int('n_estimators', 100, 400, 10)\n",
    "  max_depth = trial.suggest_int('max_depth', 5, 31, 1)\n",
    "  min_samples_leaf = trial.suggest_int('min_samples_leaf', 2, 10, 1)\n",
    "\n",
    "  # создаем модель\n",
    "  model = ensemble.RandomForestClassifier(n_estimators=n_estimators,\n",
    "                                          max_depth=max_depth,\n",
    "                                          min_samples_leaf=min_samples_leaf,\n",
    "                                          random_state=42)\n",
    "  # обучаем модель\n",
    "  # model.fit(X_train, y_train)\n",
    "  # score = metrics.f1_score(y_train, model.predict(X_train))\n",
    "\n",
    "  score = cross_val_score(model, X, y, cv=cv, scoring=\"f1\", n_jobs=-1).mean()\n",
    "\n",
    "  return score\n",
    "\n",
    "# cоздаем объект исследования\n",
    "# можем напрямую указать, что нам необходимо максимизировать метрику direction=\"maximize\"\n",
    "study = optuna.create_study(study_name=\"RandomForestClassifier\", direction=\"maximize\")\n",
    "# ищем лучшую комбинацию гиперпараметров n_trials раз\n",
    "study.optimize(optuna_rf, n_trials=20)\n",
    "\n",
    "# выводим результаты на обучающей выборке\n",
    "print(\"Наилучшие значения гиперпараметров {}\".format(study.best_params))\n",
    "print(\"F1 на обучающем наборе для случайного леса (Optuna): {:.2f}\".format(study.best_value))\n",
    "\n",
    "# рассчитаем точность для тестовой выборки\n",
    "model = ensemble.RandomForestClassifier(**study.best_params,random_state=42)\n",
    "model.fit(X_train, y_train)\n",
    "y_test_pred = model.predict(X_test)\n",
    "print('F1 на тестовом наборе для случайного леса (Optuna): {:.2f}'.format(metrics.f1_score(y_test, y_test_pred)))"
   ]
  },
  {
   "attachments": {},
   "cell_type": "markdown",
   "metadata": {},
   "source": [
    "## Optuna — выводы"
   ]
  },
  {
   "attachments": {},
   "cell_type": "markdown",
   "metadata": {},
   "source": [
    "Удалось увеличить метрику F1 только для логистической регресии."
   ]
  },
  {
   "attachments": {},
   "cell_type": "markdown",
   "metadata": {},
   "source": [
    "# Общие результаты"
   ]
  },
  {
   "attachments": {},
   "cell_type": "markdown",
   "metadata": {},
   "source": [
    "С помощью методов RandomizedSearchCV и Optuna нам удалось увеличить метрику F1 для логистической регресии по сравнению с базовой моделью. С помощью метода Hyperopt нам удалось увеличить метрику F1 для случайного леса по сравнению с базовой моделью."
   ]
  }
 ],
 "metadata": {
  "kernelspec": {
   "display_name": "Python 3",
   "language": "python",
   "name": "python3"
  },
  "language_info": {
   "codemirror_mode": {
    "name": "ipython",
    "version": 3
   },
   "file_extension": ".py",
   "mimetype": "text/x-python",
   "name": "python",
   "nbconvert_exporter": "python",
   "pygments_lexer": "ipython3",
   "version": "3.10.11"
  },
  "orig_nbformat": 4
 },
 "nbformat": 4,
 "nbformat_minor": 2
}
